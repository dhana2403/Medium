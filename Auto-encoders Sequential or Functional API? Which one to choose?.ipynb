{
 "cells": [
  {
   "cell_type": "code",
   "execution_count": null,
   "metadata": {},
   "outputs": [],
   "source": [
    "#functional API-AUTOENCODER\n",
    "import tensorflow as tf\n",
    "from tensorflow.keras import layers, models\n",
    "\n",
    "#input layer\n",
    "input layer = tf.keras.Input(shape=(input_dim,)) #here we are passing the features of input data, \n",
    "\n",
    "#Encoder part (compression)\n",
    "encoded = layers.Dense(64, activation='relu')(input_layer) #ReLU stands for Rectified Linear Unit. It is a common activation function in deep learning. \n",
    "\n",
    "#Latent space\n",
    "latent = layers.Dense(32, activation='relu')(encoded) #Compressed representation\n",
    "\n",
    "#Decoder part (reconstruction)\n",
    "decoded = layers.Dense(64, activation='relu')(latent)\n",
    "\n",
    "#Output\n",
    "output = layers.Dense(input_dim, activation='sigmoid')(decoded) #Reconstructed input\n",
    "\n",
    "# Autoencoder model\n",
    "autoencoder = models.Model(inputs=input layer, outputs=output)\n",
    "\n",
    "# Compile the model\n",
    "autoencoder.compile(optimizer='adam', loss='binary_crossentropy')\n",
    "\n"
   ]
  },
  {
   "cell_type": "code",
   "execution_count": null,
   "metadata": {},
   "outputs": [],
   "source": [
    "#sequential API-AUTOENCODER\n",
    "import tensorflow as tf\n",
    "from tensorflow.keras import layers, models\n",
    "\n",
    "# Sequential API\n",
    "model_sequential = tf.keras.Sequential([\n",
    "    \n",
    "# Input layer\n",
    "layers.Input(shape=(input_dim,)),  # input_dim is the size of the features\n",
    "    \n",
    "# Encoder part\n",
    "layers.Dense(64, activation='relu'),\n",
    "    \n",
    "# Latent space\n",
    "layers.Dense(32, activation='relu'), # compressed representation\n",
    "    \n",
    "# Decoder part\n",
    "layers.Dense(64, activation='relu'),\n",
    "    \n",
    "# Output (reconstruction)\n",
    "layers.Dense(input_dim, activation='sigmoid')\n",
    "\n",
    "])\n",
    "\n",
    "# Compile the model\n",
    "model_sequential.compile(optimizer='adam', loss='binary_crossentropy')"
   ]
  }
 ],
 "metadata": {
  "language_info": {
   "name": "python"
  }
 },
 "nbformat": 4,
 "nbformat_minor": 2
}
